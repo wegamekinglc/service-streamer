{
 "cells": [
  {
   "cell_type": "code",
   "execution_count": 1,
   "metadata": {},
   "outputs": [],
   "source": [
    "import datetime as dt\n",
    "import pandas as pd\n",
    "import requests\n",
    "from dask.distributed import LocalCluster\n",
    "from dask.distributed import Client"
   ]
  },
  {
   "cell_type": "code",
   "execution_count": 44,
   "metadata": {},
   "outputs": [],
   "source": [
    "api = 'http://127.0.0.1:5000/naive'\n",
    "\n",
    "def worker(api, query):\n",
    "    start = dt.datetime.now()\n",
    "    resp = requests.post(api, data={'s': query})\n",
    "    elapsed = dt.datetime.now() - start\n",
    "    return elapsed.total_seconds() * 1000, resp.status_code"
   ]
  },
  {
   "cell_type": "code",
   "execution_count": null,
   "metadata": {},
   "outputs": [],
   "source": [
    "c = LocalCluster(4, 16)\n",
    "client = Client(c)\n",
    "\n",
    "\n",
    "qs = ['你好'] * 1000\n",
    "\n",
    "start = dt.datetime.now()\n",
    "results = []\n",
    "\n",
    "for s in qs:\n",
    "    results.append(client.submit(worker, api, s, pure=False))\n",
    "    \n",
    "results = client.gather(results)\n",
    "elapsed = (dt.datetime.now() - start).total_seconds() * 1000\n",
    "\n",
    "client.close()\n",
    "c.close()\n",
    "\n",
    "times = [r for r, _ in results]\n",
    "status = [1 if r == 200 else 0 for _, r in results]\n",
    "df = pd.DataFrame({'latency': times, 'status': status})"
   ]
  },
  {
   "cell_type": "code",
   "execution_count": null,
   "metadata": {},
   "outputs": [],
   "source": [
    "df[['latency']].describe()"
   ]
  },
  {
   "cell_type": "code",
   "execution_count": null,
   "metadata": {},
   "outputs": [],
   "source": [
    "print(\"QPS: %.2f\" % (len(qs) / elapsed * 1000))"
   ]
  },
  {
   "cell_type": "code",
   "execution_count": 22,
   "metadata": {},
   "outputs": [
    {
     "data": {
      "text/plain": [
       "20002.857"
      ]
     },
     "execution_count": 22,
     "metadata": {},
     "output_type": "execute_result"
    }
   ],
   "source": [
    "elapsed"
   ]
  },
  {
   "cell_type": "code",
   "execution_count": null,
   "metadata": {},
   "outputs": [],
   "source": []
  }
 ],
 "metadata": {
  "@webio": {
   "lastCommId": null,
   "lastKernelId": null
  },
  "kernelspec": {
   "display_name": "Python 3",
   "language": "python",
   "name": "python3"
  },
  "language_info": {
   "codemirror_mode": {
    "name": "ipython",
    "version": 3
   },
   "file_extension": ".py",
   "mimetype": "text/x-python",
   "name": "python",
   "nbconvert_exporter": "python",
   "pygments_lexer": "ipython3",
   "version": "3.7.3"
  },
  "pycharm": {
   "stem_cell": {
    "cell_type": "raw",
    "metadata": {
     "collapsed": false
    },
    "source": []
   }
  }
 },
 "nbformat": 4,
 "nbformat_minor": 1
}
